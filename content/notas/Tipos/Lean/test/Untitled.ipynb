{
 "cells": [
  {
   "cell_type": "code",
   "execution_count": 4,
   "id": "d58c7829-b727-4fdb-8a08-8ccfc9ef542a",
   "metadata": {},
   "outputs": [
    {
     "data": {
      "text/html": [
       "\n",
       "        \n",
       "        <link rel=\"stylesheet\" href=\"https://lean-lang.org/lean4/doc/alectryon.css\">\n",
       "        <link rel=\"stylesheet\" href=\"https://lean-lang.org/lean4/doc/pygments.css\">\n",
       "        <link rel=\"stylesheet\" href=\"https://cdn.jsdelivr.net/gh/utensil/lean4_jupyter@main/vendor/lean4_jupyter.css\">\n",
       "        <script src=\"https://lean-lang.org/lean4/doc/alectryon.js\"></script>\n",
       "        <script src=\"https://lean-lang.org/lean4/doc/highlight.js\"></script>\n",
       "    \n",
       "        <div class=\"alectryon-root alectryon-centered\">\n",
       "            <pre class=\"alectryon-io highlight\"><!-- Generator: Alectryon --><span class=\"alectryon-sentence\"><span class=\"alectryon-input\"><span class=\"kn\">def</span><span class=\"w\"> </span>x<span class=\"w\"> </span>:=<span class=\"w\"> </span><span class=\"mi\">2</span></span></span></pre>\n",
       "<pre class=\"alectryon-io highlight\"><!-- Generator: Alectryon --><span class=\"alectryon-sentence\"><span class=\"alectryon-input\"><span class=\"c1\">--% env 3</span></span></span></pre>\n",
       "        </div>\n",
       "        <details>\n",
       "            <summary>Raw input</summary>\n",
       "            <code>{\"cmd\": \"def x := 2\", \"env\": 2}</code>\n",
       "        </details>\n",
       "        <details>\n",
       "            <summary>Raw output</summary>\n",
       "            <code>{\"env\": 3}</code>\n",
       "        </details>\n",
       "    "
      ],
      "text/plain": [
       "def x := 2\n",
       "--% env 3\n",
       "\n",
       "Raw input:\n",
       "{\"cmd\": \"def x := 2\", \"env\": 2}\n",
       "Raw output:\n",
       "{\"env\": 3}"
      ]
     },
     "metadata": {},
     "output_type": "display_data"
    }
   ],
   "source": [
    "def x := 2"
   ]
  },
  {
   "cell_type": "code",
   "execution_count": 5,
   "id": "2eda99d6-c37e-46d0-a227-d49de575ea86",
   "metadata": {},
   "outputs": [
    {
     "data": {
      "text/html": [
       "\n",
       "        \n",
       "        <link rel=\"stylesheet\" href=\"https://lean-lang.org/lean4/doc/alectryon.css\">\n",
       "        <link rel=\"stylesheet\" href=\"https://lean-lang.org/lean4/doc/pygments.css\">\n",
       "        <link rel=\"stylesheet\" href=\"https://cdn.jsdelivr.net/gh/utensil/lean4_jupyter@main/vendor/lean4_jupyter.css\">\n",
       "        <script src=\"https://lean-lang.org/lean4/doc/alectryon.js\"></script>\n",
       "        <script src=\"https://lean-lang.org/lean4/doc/highlight.js\"></script>\n",
       "    \n",
       "        <div class=\"alectryon-root alectryon-centered\">\n",
       "            <pre class=\"alectryon-io highlight\"><!-- Generator: Alectryon --><span class=\"alectryon-sentence\"><input class=\"alectryon-toggle\" id=\"chk3\" style=\"display: none\" type=\"checkbox\"><label class=\"alectryon-input\" for=\"chk3\"><span class=\"bp\">#</span>check<span class=\"w\"> </span>x</label><small class=\"alectryon-output\"><div><div class=\"alectryon-messages\"><blockquote class=\"alectryon-message\"> x<span class=\"w\"> </span>:<span class=\"w\"> </span>Nat</blockquote></div></div></small></span></pre>\n",
       "<pre class=\"alectryon-io highlight\"><!-- Generator: Alectryon --><span class=\"alectryon-sentence\"><span class=\"alectryon-input\"><span class=\"c1\">--% env 4</span></span></span></pre>\n",
       "        </div>\n",
       "        <details>\n",
       "            <summary>Raw input</summary>\n",
       "            <code>{\"cmd\": \"#check x\", \"env\": 3}</code>\n",
       "        </details>\n",
       "        <details>\n",
       "            <summary>Raw output</summary>\n",
       "            <code>{\"messages\":\r\n",
       " [{\"severity\": \"info\",\r\n",
       "   \"pos\": {\"line\": 1, \"column\": 0},\r\n",
       "   \"endPos\": {\"line\": 1, \"column\": 6},\r\n",
       "   \"data\": \"x : Nat\"}],\r\n",
       " \"env\": 4}</code>\n",
       "        </details>\n",
       "    "
      ],
      "text/plain": [
       "#check x\n",
       "──────▶  x : Nat\n",
       "--% env 4\n",
       "\n",
       "Raw input:\n",
       "{\"cmd\": \"#check x\", \"env\": 3}\n",
       "Raw output:\n",
       "{\"messages\":\r\n",
       " [{\"severity\": \"info\",\r\n",
       "   \"pos\": {\"line\": 1, \"column\": 0},\r\n",
       "   \"endPos\": {\"line\": 1, \"column\": 6},\r\n",
       "   \"data\": \"x : Nat\"}],\r\n",
       " \"env\": 4}"
      ]
     },
     "metadata": {},
     "output_type": "display_data"
    }
   ],
   "source": [
    "#check x"
   ]
  },
  {
   "cell_type": "markdown",
   "id": "9ed5da62-81dc-4ddd-b900-2c59d0babccc",
   "metadata": {},
   "source": [
    "This is a test"
   ]
  },
  {
   "cell_type": "markdown",
   "id": "4ecd2eed-8150-40e2-9097-c13966e1de43",
   "metadata": {},
   "source": [
    "This is another test"
   ]
  },
  {
   "cell_type": "code",
   "execution_count": 2,
   "id": "1668b0db-6eb4-4430-bd9b-2d66d4a8ac78",
   "metadata": {},
   "outputs": [
    {
     "data": {
      "text/html": [
       "\n",
       "        \n",
       "        <link rel=\"stylesheet\" href=\"https://lean-lang.org/lean4/doc/alectryon.css\">\n",
       "        <link rel=\"stylesheet\" href=\"https://lean-lang.org/lean4/doc/pygments.css\">\n",
       "        <link rel=\"stylesheet\" href=\"https://cdn.jsdelivr.net/gh/utensil/lean4_jupyter@main/vendor/lean4_jupyter.css\">\n",
       "        <script src=\"https://lean-lang.org/lean4/doc/alectryon.js\"></script>\n",
       "        <script src=\"https://lean-lang.org/lean4/doc/highlight.js\"></script>\n",
       "    \n",
       "        <div class=\"alectryon-root alectryon-centered\">\n",
       "            <pre class=\"alectryon-io highlight\"><!-- Generator: Alectryon --><span class=\"alectryon-sentence\"><span class=\"alectryon-input\"><span class=\"kn\">def</span><span class=\"w\"> </span>func:=<span class=\"w\"> </span><span class=\"s2\">&quot;hola&quot;</span></span></span></pre>\n",
       "<pre class=\"alectryon-io highlight\"><!-- Generator: Alectryon --><span class=\"alectryon-sentence\"><span class=\"alectryon-input\"><span class=\"c1\">--% env 1</span></span></span></pre>\n",
       "        </div>\n",
       "        <details>\n",
       "            <summary>Raw input</summary>\n",
       "            <code>{\"cmd\": \"def func:= \\\"hola\\\"\", \"env\": 0}</code>\n",
       "        </details>\n",
       "        <details>\n",
       "            <summary>Raw output</summary>\n",
       "            <code>{\"env\": 1}</code>\n",
       "        </details>\n",
       "    "
      ],
      "text/plain": [
       "def func:= \"hola\"\n",
       "--% env 1\n",
       "\n",
       "Raw input:\n",
       "{\"cmd\": \"def func:= \\\"hola\\\"\", \"env\": 0}\n",
       "Raw output:\n",
       "{\"env\": 1}"
      ]
     },
     "metadata": {},
     "output_type": "display_data"
    }
   ],
   "source": [
    "def func:= \"hola\""
   ]
  },
  {
   "cell_type": "code",
   "execution_count": 3,
   "id": "5afeb360-e10a-40d5-8948-50acc74de72b",
   "metadata": {},
   "outputs": [
    {
     "data": {
      "text/html": [
       "\n",
       "        \n",
       "        <link rel=\"stylesheet\" href=\"https://lean-lang.org/lean4/doc/alectryon.css\">\n",
       "        <link rel=\"stylesheet\" href=\"https://lean-lang.org/lean4/doc/pygments.css\">\n",
       "        <link rel=\"stylesheet\" href=\"https://cdn.jsdelivr.net/gh/utensil/lean4_jupyter@main/vendor/lean4_jupyter.css\">\n",
       "        <script src=\"https://lean-lang.org/lean4/doc/alectryon.js\"></script>\n",
       "        <script src=\"https://lean-lang.org/lean4/doc/highlight.js\"></script>\n",
       "    \n",
       "        <div class=\"alectryon-root alectryon-centered\">\n",
       "            <pre class=\"alectryon-io highlight\"><!-- Generator: Alectryon --><span class=\"alectryon-sentence\"><input class=\"alectryon-toggle\" id=\"chk1\" style=\"display: none\" type=\"checkbox\"><label class=\"alectryon-input\" for=\"chk1\"><span class=\"bp\">#</span>check<span class=\"w\"> </span>func</label><small class=\"alectryon-output\"><div><div class=\"alectryon-messages\"><blockquote class=\"alectryon-message\"> func<span class=\"w\"> </span>:<span class=\"w\"> </span>String</blockquote></div></div></small></span></pre>\n",
       "<pre class=\"alectryon-io highlight\"><!-- Generator: Alectryon --><span class=\"alectryon-sentence\"><span class=\"alectryon-input\"><span class=\"c1\">--% env 2</span></span></span></pre>\n",
       "        </div>\n",
       "        <details>\n",
       "            <summary>Raw input</summary>\n",
       "            <code>{\"cmd\": \"#check func\", \"env\": 1}</code>\n",
       "        </details>\n",
       "        <details>\n",
       "            <summary>Raw output</summary>\n",
       "            <code>{\"messages\":\r\n",
       " [{\"severity\": \"info\",\r\n",
       "   \"pos\": {\"line\": 1, \"column\": 0},\r\n",
       "   \"endPos\": {\"line\": 1, \"column\": 6},\r\n",
       "   \"data\": \"func : String\"}],\r\n",
       " \"env\": 2}</code>\n",
       "        </details>\n",
       "    "
      ],
      "text/plain": [
       "#check func\n",
       "──────▶  func : String\n",
       "--% env 2\n",
       "\n",
       "Raw input:\n",
       "{\"cmd\": \"#check func\", \"env\": 1}\n",
       "Raw output:\n",
       "{\"messages\":\r\n",
       " [{\"severity\": \"info\",\r\n",
       "   \"pos\": {\"line\": 1, \"column\": 0},\r\n",
       "   \"endPos\": {\"line\": 1, \"column\": 6},\r\n",
       "   \"data\": \"func : String\"}],\r\n",
       " \"env\": 2}"
      ]
     },
     "metadata": {},
     "output_type": "display_data"
    }
   ],
   "source": [
    "#check func"
   ]
  },
  {
   "cell_type": "code",
   "execution_count": 4,
   "id": "a27942d7-6050-4cd1-b8a4-bfcc6ee359ab",
   "metadata": {},
   "outputs": [
    {
     "data": {
      "text/html": [
       "\n",
       "        \n",
       "        <link rel=\"stylesheet\" href=\"https://lean-lang.org/lean4/doc/alectryon.css\">\n",
       "        <link rel=\"stylesheet\" href=\"https://lean-lang.org/lean4/doc/pygments.css\">\n",
       "        <link rel=\"stylesheet\" href=\"https://cdn.jsdelivr.net/gh/utensil/lean4_jupyter@main/vendor/lean4_jupyter.css\">\n",
       "        <script src=\"https://lean-lang.org/lean4/doc/alectryon.js\"></script>\n",
       "        <script src=\"https://lean-lang.org/lean4/doc/highlight.js\"></script>\n",
       "    \n",
       "        <div class=\"alectryon-root alectryon-centered\">\n",
       "            <pre class=\"alectryon-io highlight\"><!-- Generator: Alectryon --><span class=\"alectryon-sentence\"><input class=\"alectryon-toggle\" id=\"chk2\" style=\"display: none\" type=\"checkbox\"><label class=\"alectryon-input\" for=\"chk2\"><span class=\"bp\">#</span>eval<span class=\"w\"> </span><span class=\"mi\">2</span><span class=\"bp\">+</span><span class=\"mi\">2</span></label><small class=\"alectryon-output\"><div><div class=\"alectryon-messages\"><blockquote class=\"alectryon-message\"> <span class=\"mi\">4</span></blockquote></div></div></small></span></pre>\n",
       "<pre class=\"alectryon-io highlight\"><!-- Generator: Alectryon --><span class=\"alectryon-sentence\"><span class=\"alectryon-input\"><span class=\"c1\">--% env 3</span></span></span></pre>\n",
       "        </div>\n",
       "        <details>\n",
       "            <summary>Raw input</summary>\n",
       "            <code>{\"cmd\": \"#eval 2+2\", \"env\": 2}</code>\n",
       "        </details>\n",
       "        <details>\n",
       "            <summary>Raw output</summary>\n",
       "            <code>{\"messages\":\r\n",
       " [{\"severity\": \"info\",\r\n",
       "   \"pos\": {\"line\": 1, \"column\": 0},\r\n",
       "   \"endPos\": {\"line\": 1, \"column\": 5},\r\n",
       "   \"data\": \"4\"}],\r\n",
       " \"env\": 3}</code>\n",
       "        </details>\n",
       "    "
      ],
      "text/plain": [
       "#eval 2+2\n",
       "─────▶  4\n",
       "--% env 3\n",
       "\n",
       "Raw input:\n",
       "{\"cmd\": \"#eval 2+2\", \"env\": 2}\n",
       "Raw output:\n",
       "{\"messages\":\r\n",
       " [{\"severity\": \"info\",\r\n",
       "   \"pos\": {\"line\": 1, \"column\": 0},\r\n",
       "   \"endPos\": {\"line\": 1, \"column\": 5},\r\n",
       "   \"data\": \"4\"}],\r\n",
       " \"env\": 3}"
      ]
     },
     "metadata": {},
     "output_type": "display_data"
    }
   ],
   "source": [
    "#eval 2+2"
   ]
  },
  {
   "cell_type": "code",
   "execution_count": null,
   "id": "98fd1db8-6042-47fa-b5b4-933178ad3cac",
   "metadata": {},
   "outputs": [],
   "source": []
  }
 ],
 "metadata": {
  "kernelspec": {
   "display_name": "Lean 4",
   "language": "lean4",
   "name": "lean4"
  },
  "language_info": {
   "codemirror_mode": "lean4",
   "file_extension": ".lean",
   "mimetype": "text/x-lean4",
   "name": "lean4"
  }
 },
 "nbformat": 4,
 "nbformat_minor": 5
}

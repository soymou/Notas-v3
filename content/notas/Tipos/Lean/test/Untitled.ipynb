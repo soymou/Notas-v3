{
 "cells": [
  {
   "cell_type": "code",
   "execution_count": null,
   "id": "dbeedf3d",
   "metadata": {
    "lines_to_next_cell": 2
   },
   "outputs": [],
   "source": []
  }
 ],
 "metadata": {
  "jupytext": {
   "main_language": "python"
  }
 },
 "nbformat": 4,
 "nbformat_minor": 5
}

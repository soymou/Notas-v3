{
 "cells": [
  {
   "cell_type": "code",
   "execution_count": 10,
   "id": "d58c7829-b727-4fdb-8a08-8ccfc9ef542a",
   "metadata": {},
   "outputs": [
    {
     "data": {
      "text/html": [
       "\n",
       "        \n",
       "        <link rel=\"stylesheet\" href=\"https://lean-lang.org/lean4/doc/alectryon.css\">\n",
       "        <link rel=\"stylesheet\" href=\"https://lean-lang.org/lean4/doc/pygments.css\">\n",
       "        <link rel=\"stylesheet\" href=\"https://cdn.jsdelivr.net/gh/utensil/lean4_jupyter@main/vendor/lean4_jupyter.css\">\n",
       "        <script src=\"https://lean-lang.org/lean4/doc/alectryon.js\"></script>\n",
       "        <script src=\"https://lean-lang.org/lean4/doc/highlight.js\"></script>\n",
       "    \n",
       "        <div class=\"alectryon-root alectryon-centered\">\n",
       "            <pre class=\"alectryon-io highlight\"><!-- Generator: Alectryon --><span class=\"alectryon-sentence\"><input class=\"alectryon-toggle\" id=\"chk8\" style=\"display: none\" type=\"checkbox\"><label class=\"alectryon-input\" for=\"chk8\"><span class=\"kn\">def</span><span class=\"w\"> </span>x<span class=\"w\"> </span>:=<span class=\"w\"> </span><span class=\"mi\">2</span></label><small class=\"alectryon-output\"><div><div class=\"alectryon-messages\"><blockquote class=\"alectryon-message\"><span class=\"bp\">❌</span><span class=\"w\"> </span><span class=\"bp\">&#39;</span>x&#39;<span class=\"w\"> </span>has<span class=\"w\"> </span>already<span class=\"w\"> </span>been<span class=\"w\"> </span>declared</blockquote></div></div></small></span></pre>\n",
       "<pre class=\"alectryon-io highlight\"><!-- Generator: Alectryon --><span class=\"alectryon-sentence\"><span class=\"alectryon-input\"><span class=\"c1\">--% env 9</span></span></span></pre>\n",
       "        </div>\n",
       "        <details>\n",
       "            <summary>Raw input</summary>\n",
       "            <code>{\"cmd\": \"def x := 2\", \"env\": 8}</code>\n",
       "        </details>\n",
       "        <details>\n",
       "            <summary>Raw output</summary>\n",
       "            <code>{\"messages\":\r\n",
       " [{\"severity\": \"error\",\r\n",
       "   \"pos\": {\"line\": 1, \"column\": 4},\r\n",
       "   \"endPos\": {\"line\": 1, \"column\": 5},\r\n",
       "   \"data\": \"'x' has already been declared\"}],\r\n",
       " \"env\": 9}</code>\n",
       "        </details>\n",
       "    "
      ],
      "text/plain": [
       "def x := 2\n",
       "    ─▶ ❌ 'x' has already been declared\n",
       "--% env 9\n",
       "\n",
       "Raw input:\n",
       "{\"cmd\": \"def x := 2\", \"env\": 8}\n",
       "Raw output:\n",
       "{\"messages\":\r\n",
       " [{\"severity\": \"error\",\r\n",
       "   \"pos\": {\"line\": 1, \"column\": 4},\r\n",
       "   \"endPos\": {\"line\": 1, \"column\": 5},\r\n",
       "   \"data\": \"'x' has already been declared\"}],\r\n",
       " \"env\": 9}"
      ]
     },
     "metadata": {},
     "output_type": "display_data"
    }
   ],
   "source": [
    "def x := 2"
   ]
  },
  {
   "cell_type": "code",
   "execution_count": 18,
   "id": "085940bb-fab1-485d-b344-c272d95ca9f8",
   "metadata": {},
   "outputs": [
    {
     "data": {
      "text/html": [
       "\n",
       "        \n",
       "        <link rel=\"stylesheet\" href=\"https://lean-lang.org/lean4/doc/alectryon.css\">\n",
       "        <link rel=\"stylesheet\" href=\"https://lean-lang.org/lean4/doc/pygments.css\">\n",
       "        <link rel=\"stylesheet\" href=\"https://cdn.jsdelivr.net/gh/utensil/lean4_jupyter@main/vendor/lean4_jupyter.css\">\n",
       "        <script src=\"https://lean-lang.org/lean4/doc/alectryon.js\"></script>\n",
       "        <script src=\"https://lean-lang.org/lean4/doc/highlight.js\"></script>\n",
       "    \n",
       "        <div class=\"alectryon-root alectryon-centered\">\n",
       "            <pre class=\"alectryon-io highlight\"><!-- Generator: Alectryon --><span class=\"alectryon-sentence\"><input class=\"alectryon-toggle\" id=\"chk15\" style=\"display: none\" type=\"checkbox\"><label class=\"alectryon-input\" for=\"chk15\"><span class=\"bp\">#</span>eval<span class=\"w\"> </span><span class=\"mi\">2</span><span class=\"bp\">+</span><span class=\"mi\">2</span></label><small class=\"alectryon-output\"><div><div class=\"alectryon-messages\"><blockquote class=\"alectryon-message\"> <span class=\"mi\">4</span></blockquote></div></div></small></span></pre>\n",
       "<pre class=\"alectryon-io highlight\"><!-- Generator: Alectryon --><span class=\"alectryon-sentence\"><input class=\"alectryon-toggle\" id=\"chk16\" style=\"display: none\" type=\"checkbox\"><label class=\"alectryon-input\" for=\"chk16\"><span class=\"bp\">#</span>eval<span class=\"w\"> </span><span class=\"mi\">3</span><span class=\"bp\">+</span><span class=\"mi\">3</span></label><small class=\"alectryon-output\"><div><div class=\"alectryon-messages\"><blockquote class=\"alectryon-message\"> <span class=\"mi\">6</span></blockquote></div></div></small></span></pre>\n",
       "<pre class=\"alectryon-io highlight\"><!-- Generator: Alectryon --><span class=\"alectryon-sentence\"><input class=\"alectryon-toggle\" id=\"chk17\" style=\"display: none\" type=\"checkbox\"><label class=\"alectryon-input\" for=\"chk17\"><span class=\"bp\">#</span>check<span class=\"w\"> </span><span class=\"mi\">2</span></label><small class=\"alectryon-output\"><div><div class=\"alectryon-messages\"><blockquote class=\"alectryon-message\"> <span class=\"mi\">2</span><span class=\"w\"> </span>:<span class=\"w\"> </span>Nat</blockquote></div></div></small></span></pre>\n",
       "<pre class=\"alectryon-io highlight\"><!-- Generator: Alectryon --><span class=\"alectryon-sentence\"><span class=\"alectryon-input\"><span class=\"c1\">--% env 17</span></span></span></pre>\n",
       "        </div>\n",
       "        <details>\n",
       "            <summary>Raw input</summary>\n",
       "            <code>{\"cmd\": \"#eval 2+2\\n#eval 3+3\\n#check 2\", \"env\": 16}</code>\n",
       "        </details>\n",
       "        <details>\n",
       "            <summary>Raw output</summary>\n",
       "            <code>{\"messages\":\r\n",
       " [{\"severity\": \"info\",\r\n",
       "   \"pos\": {\"line\": 1, \"column\": 0},\r\n",
       "   \"endPos\": {\"line\": 1, \"column\": 5},\r\n",
       "   \"data\": \"4\"},\r\n",
       "  {\"severity\": \"info\",\r\n",
       "   \"pos\": {\"line\": 2, \"column\": 0},\r\n",
       "   \"endPos\": {\"line\": 2, \"column\": 5},\r\n",
       "   \"data\": \"6\"},\r\n",
       "  {\"severity\": \"info\",\r\n",
       "   \"pos\": {\"line\": 3, \"column\": 0},\r\n",
       "   \"endPos\": {\"line\": 3, \"column\": 6},\r\n",
       "   \"data\": \"2 : Nat\"}],\r\n",
       " \"env\": 17}</code>\n",
       "        </details>\n",
       "    "
      ],
      "text/plain": [
       "#eval 2+2\n",
       "─────▶  4\n",
       "#eval 3+3\n",
       "─────▶  6\n",
       "#check 2\n",
       "──────▶  2 : Nat\n",
       "--% env 17\n",
       "\n",
       "Raw input:\n",
       "{\"cmd\": \"#eval 2+2\\n#eval 3+3\\n#check 2\", \"env\": 16}\n",
       "Raw output:\n",
       "{\"messages\":\r\n",
       " [{\"severity\": \"info\",\r\n",
       "   \"pos\": {\"line\": 1, \"column\": 0},\r\n",
       "   \"endPos\": {\"line\": 1, \"column\": 5},\r\n",
       "   \"data\": \"4\"},\r\n",
       "  {\"severity\": \"info\",\r\n",
       "   \"pos\": {\"line\": 2, \"column\": 0},\r\n",
       "   \"endPos\": {\"line\": 2, \"column\": 5},\r\n",
       "   \"data\": \"6\"},\r\n",
       "  {\"severity\": \"info\",\r\n",
       "   \"pos\": {\"line\": 3, \"column\": 0},\r\n",
       "   \"endPos\": {\"line\": 3, \"column\": 6},\r\n",
       "   \"data\": \"2 : Nat\"}],\r\n",
       " \"env\": 17}"
      ]
     },
     "metadata": {},
     "output_type": "display_data"
    }
   ],
   "source": [
    "#eval 2+2\n",
    "#eval 3+3\n",
    "#check 2"
   ]
  },
  {
   "cell_type": "code",
   "execution_count": null,
   "id": "bc4d8372-57c5-42ed-a148-5bf41eea3c6a",
   "metadata": {},
   "outputs": [],
   "source": []
  }
 ],
 "metadata": {
  "kernelspec": {
   "display_name": "Lean 4",
   "language": "lean4",
   "name": "lean4"
  },
  "language_info": {
   "codemirror_mode": "lean4",
   "file_extension": ".lean",
   "mimetype": "text/x-lean4",
   "name": "lean4"
  }
 },
 "nbformat": 4,
 "nbformat_minor": 5
}
